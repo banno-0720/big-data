{
  "nbformat": 4,
  "nbformat_minor": 0,
  "metadata": {
    "colab": {
      "provenance": [],
      "authorship_tag": "ABX9TyN0NcT+ztWkiV4j7izZ7Kn0",
      "include_colab_link": true
    },
    "kernelspec": {
      "name": "python3",
      "display_name": "Python 3"
    },
    "language_info": {
      "name": "python"
    }
  },
  "cells": [
    {
      "cell_type": "markdown",
      "metadata": {
        "id": "view-in-github",
        "colab_type": "text"
      },
      "source": [
        "<a href=\"https://colab.research.google.com/github/banno-0720/big-data/blob/main/PySpark_handling_missing_values.ipynb\" target=\"_parent\"><img src=\"https://colab.research.google.com/assets/colab-badge.svg\" alt=\"Open In Colab\"/></a>"
      ]
    },
    {
      "cell_type": "markdown",
      "source": [
        "# This notebook covers\n",
        "- Dropping Columns\n",
        "- Dropping Rows\n",
        "- Various Parameter in Dropping functionalities\n",
        "- Handling Missing values by Mean, Median and Mode"
      ],
      "metadata": {
        "id": "iWONYQK6IMhs"
      }
    },
    {
      "cell_type": "code",
      "source": [
        "from pyspark.sql import SparkSession\n",
        "spark = SparkSession.builder.appName(\"Practise\").getOrCreate()"
      ],
      "metadata": {
        "id": "zlG8MkUoIm98"
      },
      "execution_count": 1,
      "outputs": []
    },
    {
      "cell_type": "code",
      "source": [
        "df_pyspark = spark.read.csv(\"test1.csv\", header=True, inferSchema=True)"
      ],
      "metadata": {
        "id": "ZMLNL1pcbnR_"
      },
      "execution_count": 5,
      "outputs": []
    },
    {
      "cell_type": "code",
      "source": [
        "df_pyspark.show()"
      ],
      "metadata": {
        "colab": {
          "base_uri": "https://localhost:8080/"
        },
        "id": "c530Ijvnbt_6",
        "outputId": "d082d481-c5bb-4f78-ba2c-048c03f46182"
      },
      "execution_count": 6,
      "outputs": [
        {
          "output_type": "stream",
          "name": "stdout",
          "text": [
            "+----+----+----------+------+\n",
            "|Name| Age|Experience|Salary|\n",
            "+----+----+----------+------+\n",
            "| abc|  21|         3| 30000|\n",
            "| def|  18|         0| 25000|\n",
            "| xyz|  24|         4| 10000|\n",
            "| ghi|  30|         6| 15000|\n",
            "| jkl|NULL|      NULL| 40000|\n",
            "|NULL|  34|        10| 38000|\n",
            "|NULL|  36|      NULL|  NULL|\n",
            "+----+----+----------+------+\n",
            "\n"
          ]
        }
      ]
    },
    {
      "cell_type": "code",
      "source": [
        "df_pyspark.drop(\"Name\").show()"
      ],
      "metadata": {
        "colab": {
          "base_uri": "https://localhost:8080/"
        },
        "id": "MQ15HthvbyYz",
        "outputId": "8dc19e74-67f1-48fd-e638-fbd4e7f237c4"
      },
      "execution_count": 7,
      "outputs": [
        {
          "output_type": "stream",
          "name": "stdout",
          "text": [
            "+----+----------+------+\n",
            "| Age|Experience|Salary|\n",
            "+----+----------+------+\n",
            "|  21|         3| 30000|\n",
            "|  18|         0| 25000|\n",
            "|  24|         4| 10000|\n",
            "|  30|         6| 15000|\n",
            "|NULL|      NULL| 40000|\n",
            "|  34|        10| 38000|\n",
            "|  36|      NULL|  NULL|\n",
            "+----+----------+------+\n",
            "\n"
          ]
        }
      ]
    },
    {
      "cell_type": "code",
      "source": [
        "df_pyspark.na.drop().show()"
      ],
      "metadata": {
        "colab": {
          "base_uri": "https://localhost:8080/"
        },
        "id": "jr-DGhBZcABW",
        "outputId": "d10069a2-7cde-4c23-bf17-0c93e16ba819"
      },
      "execution_count": 8,
      "outputs": [
        {
          "output_type": "stream",
          "name": "stdout",
          "text": [
            "+----+---+----------+------+\n",
            "|Name|Age|Experience|Salary|\n",
            "+----+---+----------+------+\n",
            "| abc| 21|         3| 30000|\n",
            "| def| 18|         0| 25000|\n",
            "| xyz| 24|         4| 10000|\n",
            "| ghi| 30|         6| 15000|\n",
            "+----+---+----------+------+\n",
            "\n"
          ]
        }
      ]
    },
    {
      "cell_type": "code",
      "source": [
        "### how == any/all\n",
        "df_pyspark.na.drop(how=\"any\").show()"
      ],
      "metadata": {
        "colab": {
          "base_uri": "https://localhost:8080/"
        },
        "id": "EvBVSF-5cF5I",
        "outputId": "3b126edd-e271-4edf-df12-b332308e99fa"
      },
      "execution_count": 9,
      "outputs": [
        {
          "output_type": "stream",
          "name": "stdout",
          "text": [
            "+----+---+----------+------+\n",
            "|Name|Age|Experience|Salary|\n",
            "+----+---+----------+------+\n",
            "| abc| 21|         3| 30000|\n",
            "| def| 18|         0| 25000|\n",
            "| xyz| 24|         4| 10000|\n",
            "| ghi| 30|         6| 15000|\n",
            "+----+---+----------+------+\n",
            "\n"
          ]
        }
      ]
    },
    {
      "cell_type": "code",
      "source": [
        "### threshold\n",
        "df_pyspark.na.drop(how=\"any\", thresh=2).show()"
      ],
      "metadata": {
        "colab": {
          "base_uri": "https://localhost:8080/"
        },
        "id": "SbduGO2kcPJP",
        "outputId": "e5aa3fa7-abb9-4665-8ba1-7dcf653a1eb7"
      },
      "execution_count": 10,
      "outputs": [
        {
          "output_type": "stream",
          "name": "stdout",
          "text": [
            "+----+----+----------+------+\n",
            "|Name| Age|Experience|Salary|\n",
            "+----+----+----------+------+\n",
            "| abc|  21|         3| 30000|\n",
            "| def|  18|         0| 25000|\n",
            "| xyz|  24|         4| 10000|\n",
            "| ghi|  30|         6| 15000|\n",
            "| jkl|NULL|      NULL| 40000|\n",
            "|NULL|  34|        10| 38000|\n",
            "+----+----+----------+------+\n",
            "\n"
          ]
        }
      ]
    },
    {
      "cell_type": "code",
      "source": [
        "### Subset\n",
        "df_pyspark.na.drop(how=\"any\", subset=[\"Age\"]).show()"
      ],
      "metadata": {
        "colab": {
          "base_uri": "https://localhost:8080/"
        },
        "id": "fcqIbXrHd4q5",
        "outputId": "aff1858a-79a5-4e44-b8d5-cb5a741ac200"
      },
      "execution_count": 11,
      "outputs": [
        {
          "output_type": "stream",
          "name": "stdout",
          "text": [
            "+----+---+----------+------+\n",
            "|Name|Age|Experience|Salary|\n",
            "+----+---+----------+------+\n",
            "| abc| 21|         3| 30000|\n",
            "| def| 18|         0| 25000|\n",
            "| xyz| 24|         4| 10000|\n",
            "| ghi| 30|         6| 15000|\n",
            "|NULL| 34|        10| 38000|\n",
            "|NULL| 36|      NULL|  NULL|\n",
            "+----+---+----------+------+\n",
            "\n"
          ]
        }
      ]
    },
    {
      "cell_type": "code",
      "source": [
        "### Filling the missing value\n",
        "df_pyspark.na.fill(\"Missing Values\", [\"Experience\", \"Age\"]).show()"
      ],
      "metadata": {
        "colab": {
          "base_uri": "https://localhost:8080/"
        },
        "id": "5CQcMIAkeCXV",
        "outputId": "1d437b4c-8d4e-4518-cc76-2fcc6f462259"
      },
      "execution_count": 12,
      "outputs": [
        {
          "output_type": "stream",
          "name": "stdout",
          "text": [
            "+----+----+----------+------+\n",
            "|Name| Age|Experience|Salary|\n",
            "+----+----+----------+------+\n",
            "| abc|  21|         3| 30000|\n",
            "| def|  18|         0| 25000|\n",
            "| xyz|  24|         4| 10000|\n",
            "| ghi|  30|         6| 15000|\n",
            "| jkl|NULL|      NULL| 40000|\n",
            "|NULL|  34|        10| 38000|\n",
            "|NULL|  36|      NULL|  NULL|\n",
            "+----+----+----------+------+\n",
            "\n"
          ]
        }
      ]
    },
    {
      "cell_type": "code",
      "source": [
        "df_pyspark.show()"
      ],
      "metadata": {
        "colab": {
          "base_uri": "https://localhost:8080/"
        },
        "id": "jVT3FvVVeXHt",
        "outputId": "3fad0fef-3a1d-462a-df30-f48481fa6df0"
      },
      "execution_count": 13,
      "outputs": [
        {
          "output_type": "stream",
          "name": "stdout",
          "text": [
            "+----+----+----------+------+\n",
            "|Name| Age|Experience|Salary|\n",
            "+----+----+----------+------+\n",
            "| abc|  21|         3| 30000|\n",
            "| def|  18|         0| 25000|\n",
            "| xyz|  24|         4| 10000|\n",
            "| ghi|  30|         6| 15000|\n",
            "| jkl|NULL|      NULL| 40000|\n",
            "|NULL|  34|        10| 38000|\n",
            "|NULL|  36|      NULL|  NULL|\n",
            "+----+----+----------+------+\n",
            "\n"
          ]
        }
      ]
    },
    {
      "cell_type": "code",
      "source": [
        "from pyspark.ml.feature import Imputer\n",
        "\n",
        "imputer = Imputer(\n",
        "    inputCols=[\"Age\", \"Experience\", \"Salary\"],\n",
        "    outputCols=[\"{}_imputed\".format(c) for c in [\"Age\", \"Experience\", \"Salary\"]]\n",
        ").setStrategy(\"mean\")"
      ],
      "metadata": {
        "id": "LzdYjDXVeejF"
      },
      "execution_count": 14,
      "outputs": []
    },
    {
      "cell_type": "code",
      "source": [
        "# Add imputation cols to df\n",
        "imputer.fit(df_pyspark).transform(df_pyspark).show()"
      ],
      "metadata": {
        "colab": {
          "base_uri": "https://localhost:8080/"
        },
        "id": "0msp7YPzerYp",
        "outputId": "0b6b0625-0283-4f23-f8f3-b1e7f0c125e6"
      },
      "execution_count": 15,
      "outputs": [
        {
          "output_type": "stream",
          "name": "stdout",
          "text": [
            "+----+----+----------+------+-----------+------------------+--------------+\n",
            "|Name| Age|Experience|Salary|Age_imputed|Experience_imputed|Salary_imputed|\n",
            "+----+----+----------+------+-----------+------------------+--------------+\n",
            "| abc|  21|         3| 30000|         21|                 3|         30000|\n",
            "| def|  18|         0| 25000|         18|                 0|         25000|\n",
            "| xyz|  24|         4| 10000|         24|                 4|         10000|\n",
            "| ghi|  30|         6| 15000|         30|                 6|         15000|\n",
            "| jkl|NULL|      NULL| 40000|         27|                 4|         40000|\n",
            "|NULL|  34|        10| 38000|         34|                10|         38000|\n",
            "|NULL|  36|      NULL|  NULL|         36|                 4|         26333|\n",
            "+----+----+----------+------+-----------+------------------+--------------+\n",
            "\n"
          ]
        }
      ]
    },
    {
      "cell_type": "code",
      "source": [],
      "metadata": {
        "id": "-5hir2Vxe44s"
      },
      "execution_count": null,
      "outputs": []
    }
  ]
}