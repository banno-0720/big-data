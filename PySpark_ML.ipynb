{
  "nbformat": 4,
  "nbformat_minor": 0,
  "metadata": {
    "colab": {
      "provenance": [],
      "authorship_tag": "ABX9TyOmqdI8yT/ZmRVrSXrxFPMt",
      "include_colab_link": true
    },
    "kernelspec": {
      "name": "python3",
      "display_name": "Python 3"
    },
    "language_info": {
      "name": "python"
    }
  },
  "cells": [
    {
      "cell_type": "markdown",
      "metadata": {
        "id": "view-in-github",
        "colab_type": "text"
      },
      "source": [
        "<a href=\"https://colab.research.google.com/github/banno-0720/big-data/blob/main/PySpark_ML.ipynb\" target=\"_parent\"><img src=\"https://colab.research.google.com/assets/colab-badge.svg\" alt=\"Open In Colab\"/></a>"
      ]
    },
    {
      "cell_type": "code",
      "execution_count": 1,
      "metadata": {
        "id": "ZLrWcrCyaAUY"
      },
      "outputs": [],
      "source": [
        "from pyspark.sql import SparkSession\n",
        "spark = SparkSession.builder.appName('Missing').getOrCreate()"
      ]
    },
    {
      "cell_type": "code",
      "source": [
        "### Read the dataset\n",
        "training = spark.read.csv('test1.csv',header=True,inferSchema=True)"
      ],
      "metadata": {
        "id": "chc9SHqfckgj"
      },
      "execution_count": 2,
      "outputs": []
    },
    {
      "cell_type": "code",
      "source": [
        "training.show()"
      ],
      "metadata": {
        "colab": {
          "base_uri": "https://localhost:8080/"
        },
        "id": "kaJIuzi8cwE_",
        "outputId": "3462035a-e322-48c6-a74b-0b907d71a050"
      },
      "execution_count": 3,
      "outputs": [
        {
          "output_type": "stream",
          "name": "stdout",
          "text": [
            "+----+---+----------+------+\n",
            "|Name|Age|Experience|Salary|\n",
            "+----+---+----------+------+\n",
            "| abc| 21|         3| 30000|\n",
            "| def| 18|         0| 25000|\n",
            "| xyz| 24|         4| 10000|\n",
            "| ghi| 30|         6| 15000|\n",
            "| jkl| 36|        11| 40000|\n",
            "| pqr| 34|        10| 38000|\n",
            "| mln| 36|        16| 19000|\n",
            "+----+---+----------+------+\n",
            "\n"
          ]
        }
      ]
    },
    {
      "cell_type": "code",
      "source": [
        "training.printSchema()"
      ],
      "metadata": {
        "colab": {
          "base_uri": "https://localhost:8080/"
        },
        "id": "UnYNOMVPcy7F",
        "outputId": "f590f4d7-626d-47b7-d4cd-cc2fd731fc31"
      },
      "execution_count": 4,
      "outputs": [
        {
          "output_type": "stream",
          "name": "stdout",
          "text": [
            "root\n",
            " |-- Name: string (nullable = true)\n",
            " |-- Age: integer (nullable = true)\n",
            " |-- Experience: integer (nullable = true)\n",
            " |-- Salary: integer (nullable = true)\n",
            "\n"
          ]
        }
      ]
    },
    {
      "cell_type": "code",
      "source": [
        "training.columns"
      ],
      "metadata": {
        "colab": {
          "base_uri": "https://localhost:8080/"
        },
        "id": "wPrVLyVvc3xd",
        "outputId": "18e83bbb-9ba8-4146-be59-ff086487e8b2"
      },
      "execution_count": 5,
      "outputs": [
        {
          "output_type": "execute_result",
          "data": {
            "text/plain": [
              "['Name', 'Age', 'Experience', 'Salary']"
            ]
          },
          "metadata": {},
          "execution_count": 5
        }
      ]
    },
    {
      "cell_type": "code",
      "source": [
        "from pyspark.ml.feature import VectorAssembler\n",
        "featureassembler = VectorAssembler(inputCols=[\"Age\",\"Experience\"],outputCol=\"Independent Features\")"
      ],
      "metadata": {
        "id": "XWGwixZHc5Wy"
      },
      "execution_count": 9,
      "outputs": []
    },
    {
      "cell_type": "code",
      "source": [
        "output = featureassembler.transform(training)"
      ],
      "metadata": {
        "id": "c5v7yB-jdD6m"
      },
      "execution_count": 10,
      "outputs": []
    },
    {
      "cell_type": "code",
      "source": [
        "output.show()"
      ],
      "metadata": {
        "colab": {
          "base_uri": "https://localhost:8080/"
        },
        "id": "NDHmG1UudKNh",
        "outputId": "f99274d3-a08e-44c6-ea88-064c9db5b842"
      },
      "execution_count": 11,
      "outputs": [
        {
          "output_type": "stream",
          "name": "stdout",
          "text": [
            "+----+---+----------+------+--------------------+\n",
            "|Name|Age|Experience|Salary|Independent Features|\n",
            "+----+---+----------+------+--------------------+\n",
            "| abc| 21|         3| 30000|          [21.0,3.0]|\n",
            "| def| 18|         0| 25000|          [18.0,0.0]|\n",
            "| xyz| 24|         4| 10000|          [24.0,4.0]|\n",
            "| ghi| 30|         6| 15000|          [30.0,6.0]|\n",
            "| jkl| 36|        11| 40000|         [36.0,11.0]|\n",
            "| pqr| 34|        10| 38000|         [34.0,10.0]|\n",
            "| mln| 36|        16| 19000|         [36.0,16.0]|\n",
            "+----+---+----------+------+--------------------+\n",
            "\n"
          ]
        }
      ]
    },
    {
      "cell_type": "code",
      "source": [
        "output.columns"
      ],
      "metadata": {
        "colab": {
          "base_uri": "https://localhost:8080/"
        },
        "id": "veQHIALRdMjL",
        "outputId": "602fa7f8-6e05-4798-8d04-c79993cff627"
      },
      "execution_count": 12,
      "outputs": [
        {
          "output_type": "execute_result",
          "data": {
            "text/plain": [
              "['Name', 'Age', 'Experience', 'Salary', 'Independent Features']"
            ]
          },
          "metadata": {},
          "execution_count": 12
        }
      ]
    },
    {
      "cell_type": "code",
      "source": [
        "finalized_data = output.select(\"Independent Features\",\"Salary\")"
      ],
      "metadata": {
        "id": "gVmnzYqYdaRK"
      },
      "execution_count": 13,
      "outputs": []
    },
    {
      "cell_type": "code",
      "source": [
        "finalized_data.show()"
      ],
      "metadata": {
        "colab": {
          "base_uri": "https://localhost:8080/"
        },
        "id": "HHHDgt1Ddhbi",
        "outputId": "517531ab-842f-49cc-d36b-35d06fe70ffe"
      },
      "execution_count": 14,
      "outputs": [
        {
          "output_type": "stream",
          "name": "stdout",
          "text": [
            "+--------------------+------+\n",
            "|Independent Features|Salary|\n",
            "+--------------------+------+\n",
            "|          [21.0,3.0]| 30000|\n",
            "|          [18.0,0.0]| 25000|\n",
            "|          [24.0,4.0]| 10000|\n",
            "|          [30.0,6.0]| 15000|\n",
            "|         [36.0,11.0]| 40000|\n",
            "|         [34.0,10.0]| 38000|\n",
            "|         [36.0,16.0]| 19000|\n",
            "+--------------------+------+\n",
            "\n"
          ]
        }
      ]
    },
    {
      "cell_type": "code",
      "source": [
        "from pyspark.ml.regression import LinearRegression\n",
        "##train test split\n",
        "train_data,test_data = finalized_data.randomSplit([0.75,0.25])"
      ],
      "metadata": {
        "id": "-8oTV2RVdjoz"
      },
      "execution_count": 15,
      "outputs": []
    },
    {
      "cell_type": "code",
      "source": [
        "regressor = LinearRegression(featuresCol='Independent Features', labelCol='Salary')\n",
        "regressor = regressor.fit(train_data)"
      ],
      "metadata": {
        "id": "enQlOWYKdrw5"
      },
      "execution_count": 16,
      "outputs": []
    },
    {
      "cell_type": "code",
      "source": [
        "### Coefficients\n",
        "regressor.coefficients"
      ],
      "metadata": {
        "colab": {
          "base_uri": "https://localhost:8080/"
        },
        "id": "8L4quUSLdv4v",
        "outputId": "3c3b9350-e18d-4242-a027-4e6934281bc6"
      },
      "execution_count": 17,
      "outputs": [
        {
          "output_type": "execute_result",
          "data": {
            "text/plain": [
              "DenseVector([620.6897, -791.2395])"
            ]
          },
          "metadata": {},
          "execution_count": 17
        }
      ]
    },
    {
      "cell_type": "code",
      "source": [
        "regressor.intercept"
      ],
      "metadata": {
        "colab": {
          "base_uri": "https://localhost:8080/"
        },
        "id": "qfJatptwd11s",
        "outputId": "3bb26733-9a3b-4e3b-8afa-a9cf5c9f3b1b"
      },
      "execution_count": 18,
      "outputs": [
        {
          "output_type": "execute_result",
          "data": {
            "text/plain": [
              "13993.47623485593"
            ]
          },
          "metadata": {},
          "execution_count": 18
        }
      ]
    },
    {
      "cell_type": "code",
      "source": [
        "### Prediction\n",
        "pred_results = regressor.evaluate(test_data)"
      ],
      "metadata": {
        "id": "yR3bWH_Jd4N_"
      },
      "execution_count": 19,
      "outputs": []
    },
    {
      "cell_type": "code",
      "source": [
        "pred_results.predictions.show()"
      ],
      "metadata": {
        "colab": {
          "base_uri": "https://localhost:8080/"
        },
        "id": "E_-c-MKceDfz",
        "outputId": "ccbf5e36-0574-439c-8f44-3ec864273584"
      },
      "execution_count": 20,
      "outputs": [
        {
          "output_type": "stream",
          "name": "stdout",
          "text": [
            "+--------------------+------+------------------+\n",
            "|Independent Features|Salary|        prediction|\n",
            "+--------------------+------+------------------+\n",
            "|          [24.0,4.0]| 10000|25725.069897483696|\n",
            "|         [34.0,10.0]| 38000|27184.529356943105|\n",
            "+--------------------+------+------------------+\n",
            "\n"
          ]
        }
      ]
    },
    {
      "cell_type": "code",
      "source": [
        "pred_results.meanAbsoluteError,pred_results.meanSquaredError"
      ],
      "metadata": {
        "colab": {
          "base_uri": "https://localhost:8080/"
        },
        "id": "cCcK0s2UeF3F",
        "outputId": "7cb394a0-6d42-40f8-cb51-4cde19cb8c09"
      },
      "execution_count": 21,
      "outputs": [
        {
          "output_type": "execute_result",
          "data": {
            "text/plain": [
              "(13270.270270270295, 182126114.2557867)"
            ]
          },
          "metadata": {},
          "execution_count": 21
        }
      ]
    },
    {
      "cell_type": "code",
      "source": [],
      "metadata": {
        "id": "pAsba7o3eKSH"
      },
      "execution_count": null,
      "outputs": []
    }
  ]
}