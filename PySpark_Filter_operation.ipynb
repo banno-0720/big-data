{
  "nbformat": 4,
  "nbformat_minor": 0,
  "metadata": {
    "colab": {
      "provenance": [],
      "authorship_tag": "ABX9TyPXHdATRsPLU40XmVem4t1P",
      "include_colab_link": true
    },
    "kernelspec": {
      "name": "python3",
      "display_name": "Python 3"
    },
    "language_info": {
      "name": "python"
    }
  },
  "cells": [
    {
      "cell_type": "markdown",
      "metadata": {
        "id": "view-in-github",
        "colab_type": "text"
      },
      "source": [
        "<a href=\"https://colab.research.google.com/github/banno-0720/big-data/blob/main/PySpark_Filter_operation.ipynb\" target=\"_parent\"><img src=\"https://colab.research.google.com/assets/colab-badge.svg\" alt=\"Open In Colab\"/></a>"
      ]
    },
    {
      "cell_type": "markdown",
      "source": [
        "# This notebook covers\n",
        "- Filter Operation\n",
        "- &,|,==\n",
        "-~"
      ],
      "metadata": {
        "id": "92JrplxxfnWj"
      }
    },
    {
      "cell_type": "code",
      "source": [
        "from pyspark.sql import SparkSession\n",
        "spark = SparkSession.builder.appName('ops').getOrCreate()\n",
        "df = spark.read.csv('test1.csv',inferSchema=True,header=True)"
      ],
      "metadata": {
        "id": "kRPjE-_XgFiV"
      },
      "execution_count": 1,
      "outputs": []
    },
    {
      "cell_type": "code",
      "source": [
        "df.show()"
      ],
      "metadata": {
        "colab": {
          "base_uri": "https://localhost:8080/"
        },
        "id": "5PkxoAeshxio",
        "outputId": "128fc256-71a8-4851-cbc5-bf90310d7ca2"
      },
      "execution_count": 2,
      "outputs": [
        {
          "output_type": "stream",
          "name": "stdout",
          "text": [
            "+----+---+----------+------+\n",
            "|Name|Age|Experience|Salary|\n",
            "+----+---+----------+------+\n",
            "| abc| 21|         3| 30000|\n",
            "| def| 18|         0| 25000|\n",
            "| xyz| 24|         4| 10000|\n",
            "| ghi| 30|         6| 15000|\n",
            "| jkl| 26|         1| 40000|\n",
            "| pqr| 34|        10| 38000|\n",
            "| mln| 36|        16| 19000|\n",
            "+----+---+----------+------+\n",
            "\n"
          ]
        }
      ]
    },
    {
      "cell_type": "code",
      "source": [
        "### Salary of the people less than or equal to 20000\n",
        "df.filter(\"Salary<=20000\").show()"
      ],
      "metadata": {
        "colab": {
          "base_uri": "https://localhost:8080/"
        },
        "id": "wDeNmNlHhz74",
        "outputId": "83c3cf55-ccfa-44bd-96f4-a0edd0af2835"
      },
      "execution_count": 3,
      "outputs": [
        {
          "output_type": "stream",
          "name": "stdout",
          "text": [
            "+----+---+----------+------+\n",
            "|Name|Age|Experience|Salary|\n",
            "+----+---+----------+------+\n",
            "| xyz| 24|         4| 10000|\n",
            "| ghi| 30|         6| 15000|\n",
            "| mln| 36|        16| 19000|\n",
            "+----+---+----------+------+\n",
            "\n"
          ]
        }
      ]
    },
    {
      "cell_type": "code",
      "source": [
        "df.filter(\"Salary<=200000\").select([\"Name\",\"age\"]).show()"
      ],
      "metadata": {
        "colab": {
          "base_uri": "https://localhost:8080/"
        },
        "id": "CzfLdVDmj1EF",
        "outputId": "3528d561-394b-4b74-f484-a6f7f2cfb799"
      },
      "execution_count": 4,
      "outputs": [
        {
          "output_type": "stream",
          "name": "stdout",
          "text": [
            "+----+---+\n",
            "|Name|age|\n",
            "+----+---+\n",
            "| abc| 21|\n",
            "| def| 18|\n",
            "| xyz| 24|\n",
            "| ghi| 30|\n",
            "| jkl| 26|\n",
            "| pqr| 34|\n",
            "| mln| 36|\n",
            "+----+---+\n",
            "\n"
          ]
        }
      ]
    },
    {
      "cell_type": "code",
      "source": [
        "df.filter(df['Salary']<=20000).show()"
      ],
      "metadata": {
        "colab": {
          "base_uri": "https://localhost:8080/"
        },
        "id": "6a1Or7f7kCdF",
        "outputId": "bb2c5e69-de07-45aa-aa19-e868ac1ebf5b"
      },
      "execution_count": 5,
      "outputs": [
        {
          "output_type": "stream",
          "name": "stdout",
          "text": [
            "+----+---+----------+------+\n",
            "|Name|Age|Experience|Salary|\n",
            "+----+---+----------+------+\n",
            "| xyz| 24|         4| 10000|\n",
            "| ghi| 30|         6| 15000|\n",
            "| mln| 36|        16| 19000|\n",
            "+----+---+----------+------+\n",
            "\n"
          ]
        }
      ]
    },
    {
      "cell_type": "code",
      "source": [
        "df.filter((df['Salary']<=20000) | (df[\"Salary\"]>=35000)).show()"
      ],
      "metadata": {
        "colab": {
          "base_uri": "https://localhost:8080/"
        },
        "id": "OlvdcpckkD-9",
        "outputId": "bad80e5c-c804-4ea8-d534-9a1d6aee5750"
      },
      "execution_count": 6,
      "outputs": [
        {
          "output_type": "stream",
          "name": "stdout",
          "text": [
            "+----+---+----------+------+\n",
            "|Name|Age|Experience|Salary|\n",
            "+----+---+----------+------+\n",
            "| xyz| 24|         4| 10000|\n",
            "| ghi| 30|         6| 15000|\n",
            "| jkl| 26|         1| 40000|\n",
            "| pqr| 34|        10| 38000|\n",
            "| mln| 36|        16| 19000|\n",
            "+----+---+----------+------+\n",
            "\n"
          ]
        }
      ]
    },
    {
      "cell_type": "code",
      "source": [
        "df.filter((df['Salary']<=20000) & (df[\"Salary\"]>=15000)).show()"
      ],
      "metadata": {
        "colab": {
          "base_uri": "https://localhost:8080/"
        },
        "id": "OVSfTfFFmIDX",
        "outputId": "076cefe3-3b0e-47f8-a7b6-0473894d8b35"
      },
      "execution_count": 7,
      "outputs": [
        {
          "output_type": "stream",
          "name": "stdout",
          "text": [
            "+----+---+----------+------+\n",
            "|Name|Age|Experience|Salary|\n",
            "+----+---+----------+------+\n",
            "| ghi| 30|         6| 15000|\n",
            "| mln| 36|        16| 19000|\n",
            "+----+---+----------+------+\n",
            "\n"
          ]
        }
      ]
    },
    {
      "cell_type": "code",
      "source": [
        "df.filter(~(df['Salary']<=20000)).show()"
      ],
      "metadata": {
        "id": "63i0QW4fmULE",
        "colab": {
          "base_uri": "https://localhost:8080/"
        },
        "outputId": "1d5c935c-d89a-4639-cbfd-0db16f5b9929"
      },
      "execution_count": 8,
      "outputs": [
        {
          "output_type": "stream",
          "name": "stdout",
          "text": [
            "+----+---+----------+------+\n",
            "|Name|Age|Experience|Salary|\n",
            "+----+---+----------+------+\n",
            "| abc| 21|         3| 30000|\n",
            "| def| 18|         0| 25000|\n",
            "| jkl| 26|         1| 40000|\n",
            "| pqr| 34|        10| 38000|\n",
            "+----+---+----------+------+\n",
            "\n"
          ]
        }
      ]
    },
    {
      "cell_type": "code",
      "source": [],
      "metadata": {
        "id": "5UJoU5QOVpXE"
      },
      "execution_count": null,
      "outputs": []
    }
  ]
}